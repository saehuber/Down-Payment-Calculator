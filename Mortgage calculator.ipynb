{
 "cells": [
  {
   "cell_type": "markdown",
   "metadata": {},
   "source": [
    "This calculator is designed to calculate the optimal investment strategy over time, comparing home equity growth vs. investment growth.\n",
    "\n",
    "Many wild assumptions ahead, but hopefully at least the math is correct.\n",
    "\n",
    "We should also answer a couple of questions, like:\n",
    "Should you pay your mortgage as quickly as possible, or invest additional available income instead?\n",
    "\n",
    "Should make it so that you can start at a later year. Plots over a variety of values"
   ]
  },
  {
   "cell_type": "code",
   "execution_count": 3,
   "metadata": {
    "collapsed": true
   },
   "outputs": [],
   "source": [
    "import numpy as np"
   ]
  },
  {
   "cell_type": "markdown",
   "metadata": {},
   "source": [
    "Some important variables:\n",
    "note: do we also want to consider their uncertainty?\n",
    "We probably want to separate these into their own cells, each with sources/derivation\n",
    "\n",
    "Also: compare rental costs?\n",
    "\n",
    "All of these are per year costs, except for a couple which are one time costs"
   ]
  },
  {
   "cell_type": "code",
   "execution_count": 4,
   "metadata": {
    "collapsed": true
   },
   "outputs": [],
   "source": [
    "initial_savings = 500000 #amount available to spend in year 0\n",
    "home_cost = 100000 #cost of a home\n",
    "yearly_surplus = 5000 #amount set aside for investment\n",
    "predicted_interest_rate = 4.5 #assumed average interest rate per year\n",
    "#predicted_inflation_rate = 1.5 #assumed average inflation per year\n",
    "expected_investment_growth_rate = 7.5 #expected growth rate per year for investments\n",
    "expected_home_equity_growth_rate = 7.5 #expected growth in value of home per year\n",
    "home_purchase_costs = 5000 #costs of buying a home\n",
    "#home_maintainance_costs = 1000 #average amount spend per year on home \n",
    "#capital_gains_tax = 5 #tax rate on contributions over tax free amount?\n",
    "#property_tax = 2 #tax rate for property\n",
    "down_payment = 20 #percentage of home you pay initially\n",
    "#mortgage_rate = predicted_interest_rate + prime # Should we assume rental income = mortgage here? \n",
    "#can maintainance costs be ommitted then too?\n",
    "yearly_invested = yearly_surplus #could be a percentage; extra goes to mortgage\n",
    "years = 50"
   ]
  },
  {
   "cell_type": "markdown",
   "metadata": {},
   "source": [
    "The cost of home ownership per year"
   ]
  },
  {
   "cell_type": "code",
   "execution_count": null,
   "metadata": {
    "collapsed": true
   },
   "outputs": [],
   "source": []
  },
  {
   "cell_type": "markdown",
   "metadata": {},
   "source": [
    "The increase in value of home ownership per year"
   ]
  },
  {
   "cell_type": "code",
   "execution_count": null,
   "metadata": {
    "collapsed": true
   },
   "outputs": [],
   "source": []
  },
  {
   "cell_type": "markdown",
   "metadata": {},
   "source": [
    "Value of investments:"
   ]
  },
  {
   "cell_type": "markdown",
   "metadata": {},
   "source": [
    "initial_investment = initial_savings - home_cost * down_payment / 100 - home_purchase_costs"
   ]
  },
  {
   "cell_type": "markdown",
   "metadata": {},
   "source": [
    "investment_value = (initial_investment + yearly_invested*years)*(1+expected_investment_growth_rate)^(years)"
   ]
  },
  {
   "cell_type": "code",
   "execution_count": null,
   "metadata": {
    "collapsed": true
   },
   "outputs": [],
   "source": []
  }
 ],
 "metadata": {
  "kernelspec": {
   "display_name": "Python 2",
   "language": "python",
   "name": "python2"
  },
  "language_info": {
   "codemirror_mode": {
    "name": "ipython",
    "version": 2
   },
   "file_extension": ".py",
   "mimetype": "text/x-python",
   "name": "python",
   "nbconvert_exporter": "python",
   "pygments_lexer": "ipython2",
   "version": "2.7.8"
  }
 },
 "nbformat": 4,
 "nbformat_minor": 2
}
