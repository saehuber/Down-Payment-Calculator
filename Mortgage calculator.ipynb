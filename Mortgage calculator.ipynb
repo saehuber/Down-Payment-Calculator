{
 "cells": [
  {
   "cell_type": "markdown",
   "metadata": {},
   "source": [
    "This calculator is designed to calculate the optimal investment strategy over time, comparing home equity growth vs. investment growth.\n",
    "\n",
    "Many wild assumptions ahead, but hopefully at least the math is correct.\n",
    "\n",
    "We should also answer a couple of questions, like:\n",
    "Should you pay your mortgage as quickly as possible, or invest additional available income instead?\n",
    "\n",
    "Should make it so that you can start at a later year. Plots over a variety of values"
   ]
  },
  {
   "cell_type": "code",
   "execution_count": 18,
   "metadata": {},
   "outputs": [],
   "source": [
    "import numpy as np\n",
    "import matplotlib.pyplot as plt"
   ]
  },
  {
   "cell_type": "markdown",
   "metadata": {},
   "source": [
    "Some important variables:\n",
    "note: do we also want to consider their uncertainty?\n",
    "We probably want to separate these into their own cells, each with sources/derivation\n",
    "\n",
    "Also: compare rental costs?\n",
    "\n",
    "All of these are per year costs, except for a couple which are one time costs"
   ]
  },
  {
   "cell_type": "code",
   "execution_count": 19,
   "metadata": {},
   "outputs": [],
   "source": [
    "initial_savings = 50000 #amount available to spend in year 0\n",
    "home_cost = 200000 #cost of a home\n",
    "yearly_surplus = 5000 #amount set aside for investment\n",
    "expected_interest_rate = 3.5 #assumed average interest rate per year\n",
    "expected_inflation_rate = 3 #assumed average inflation per year\n",
    "expected_investment_growth_rate = 7.5 #expected growth rate per year for investments\n",
    "expected_home_equity_growth_rate = 7.5 #expected growth in value of home per year\n",
    "home_purchase_costs = 5000 #costs of buying a home\n",
    "#home_maintainance_costs = 1000 #average amount spend per year on home \n",
    "#capital_gains_tax = 5 #tax rate on contributions over tax free amount?\n",
    "#property_tax = 2 #tax rate for property\n",
    "down_payment = 20 #percentage of home you pay initially\n",
    "prime = 1\n",
    "mortgage_rate = expected_interest_rate + prime # Should we assume rental income = mortgage here? \n",
    "#can maintainance costs be ommitted then too?\n",
    "yearly_invested = yearly_surplus #could be a percentage; extra goes to mortgage\n",
    "years = 30\n",
    "years_arr = np.arange(0,years)\n",
    "mortgage_years = 30"
   ]
  },
  {
   "cell_type": "markdown",
   "metadata": {},
   "source": [
    "The cost of home ownership per year: TODO should this really be an additional factor? Assuming a house is purchaced, it's kind of a fixed cost."
   ]
  },
  {
   "cell_type": "code",
   "execution_count": null,
   "metadata": {},
   "outputs": [],
   "source": []
  },
  {
   "cell_type": "markdown",
   "metadata": {
    "collapsed": true
   },
   "source": [
    "Mortgage payments are calculated as the mortgage rate $\\times$ outstanding debt\n",
    "\n",
    "Here we calculate the mortgage payments for each year, assuming a fixed rate mortgage with the interest rate defined above"
   ]
  },
  {
   "cell_type": "code",
   "execution_count": 20,
   "metadata": {},
   "outputs": [],
   "source": [
    "principal = home_cost - down_payment\n",
    "yearly_mortgage_payment = principal * ( (expected_interest_rate / 100) * np.power(1 + expected_interest_rate / 100, mortgage_years) / (np.power(1 + expected_interest_rate / 100, mortgage_years) - 1))\n",
    "mortgage_payments = mortgage_rate * years_arr"
   ]
  },
  {
   "cell_type": "markdown",
   "metadata": {},
   "source": [
    "Home equity: home value increases per year, home equity grows with home value and with decreased debt due to mortgage payments"
   ]
  },
  {
   "cell_type": "code",
   "execution_count": 21,
   "metadata": {},
   "outputs": [],
   "source": [
    "home_value = home_cost*np.power(1+(expected_home_equity_growth_rate-expected_inflation_rate)/100,years_arr)\n",
    "debt = (home_cost - down_payment) - mortgage_payments\n",
    "home_equity_value = home_value - debt"
   ]
  },
  {
   "cell_type": "code",
   "execution_count": 22,
   "metadata": {},
   "outputs": [
    {
     "name": "stdout",
     "output_type": "stream",
     "text": [
      "[2.00000000e+01 9.02450000e+03 1.84340000e+04 2.82667250e+04\n",
      " 3.85417201e+04 4.92788875e+04 6.04990250e+04 7.22238661e+04\n",
      " 8.44761226e+04 9.72795281e+04 1.10658884e+05 1.24640109e+05\n",
      " 1.39250287e+05 1.54517719e+05 1.70471984e+05 1.87143989e+05\n",
      " 2.04566031e+05 2.22771862e+05 2.41796753e+05 2.61677562e+05\n",
      " 2.82452805e+05 3.04162731e+05 3.26849402e+05 3.50556770e+05\n",
      " 3.75330767e+05 4.01219391e+05 4.28272801e+05 4.56543412e+05\n",
      " 4.86085999e+05 5.16957798e+05]\n"
     ]
    }
   ],
   "source": [
    "print home_equity_value"
   ]
  },
  {
   "cell_type": "code",
   "execution_count": 23,
   "metadata": {},
   "outputs": [
    {
     "data": {
      "text/plain": [
       "Text(0.5,0,'years')"
      ]
     },
     "execution_count": 23,
     "metadata": {},
     "output_type": "execute_result"
    },
    {
     "data": {
      "image/png": "[encoded data removed]",
      "text/plain": [
       "<Figure size 432x288 with 1 Axes>"
      ]
     },
     "metadata": {},
     "output_type": "display_data"
    }
   ],
   "source": [
    "plt.plot(years_arr,home_equity_value)\n",
    "plt.ylabel(\"$ home equity value\")\n",
    "plt.xlabel(\"years\")"
   ]
  },
  {
   "cell_type": "markdown",
   "metadata": {},
   "source": [
    "Value of investments:"
   ]
  },
  {
   "cell_type": "code",
   "execution_count": 24,
   "metadata": {},
   "outputs": [],
   "source": [
    "initial_investment = initial_savings - home_cost * down_payment / 100 - home_purchase_costs"
   ]
  },
  {
   "cell_type": "code",
   "execution_count": 25,
   "metadata": {},
   "outputs": [
    {
     "name": "stdout",
     "output_type": "stream",
     "text": [
      "5000\n"
     ]
    }
   ],
   "source": [
    "print initial_investment"
   ]
  },
  {
   "cell_type": "code",
   "execution_count": 26,
   "metadata": {},
   "outputs": [
    {
     "name": "stdout",
     "output_type": "stream",
     "text": [
      "[ 0  1  2  3  4  5  6  7  8  9 10 11 12 13 14 15 16 17 18 19 20 21 22 23\n",
      " 24 25 26 27 28 29]\n",
      "[ 5000.          5225.          5460.125       5705.830625\n",
      "  5962.59300312  6230.90968827  6511.30062424  6804.30915233\n",
      "  7110.50306418  7430.47570207  7764.84710866  8114.26522855\n",
      "  8479.40716384  8860.98048621  9259.72460809  9676.41221546\n",
      " 10111.85076515 10566.88404958 11042.39383181 11539.30155425\n",
      " 12058.57012419 12601.20577978 13168.26003987 13760.83174166\n",
      " 14380.06917003 15027.17228269 15703.39503541 16410.047812\n",
      " 17148.49996354 17920.1824619 ]\n",
      "[  5000.          10225.          15685.125       21390.955625\n",
      "  27353.54862812  33584.45831639  40095.75894063  46900.06809296\n",
      "  54010.57115714  61441.04685921  69205.89396788  77320.15919643\n",
      "  85799.56636027  94660.54684648 103920.27145457 113596.68367003\n",
      " 123708.53443518 134275.41848476 145317.81231658 156857.11387082\n",
      " 168915.68399501 181516.88977479 194685.14981465 208445.98155631\n",
      " 222826.05072634 237853.22300903 253556.61804444 269966.66585644\n",
      " 287115.16581998 305035.34828187]\n"
     ]
    }
   ],
   "source": [
    "print years_arr\n",
    "print yearly_invested * np.power(1+(expected_investment_growth_rate-expected_inflation_rate)/100,years_arr)\n",
    "sum = np.cumsum(yearly_invested*np.power(1+(expected_investment_growth_rate-expected_inflation_rate)/100,years_arr)) \n",
    "print sum"
   ]
  },
  {
   "cell_type": "code",
   "execution_count": 27,
   "metadata": {},
   "outputs": [],
   "source": [
    "investment_value = initial_investment*np.power(1+(expected_investment_growth_rate-expected_inflation_rate)/100,years_arr)+sum"
   ]
  },
  {
   "cell_type": "code",
   "execution_count": 28,
   "metadata": {},
   "outputs": [
    {
     "name": "stdout",
     "output_type": "stream",
     "text": [
      "[ 10000.          15450.          21145.25        27096.78625\n",
      "  33316.14163125  39815.36800466  46607.05956487  53704.37724528\n",
      "  61121.07422132  68871.52256128  76970.74107654  85434.42442498\n",
      "  94278.97352411 103521.52733269 113179.99606266 123273.09588548\n",
      " 133820.38520033 144842.30253435 156360.20614839 168396.41542507\n",
      " 180974.2541192  194118.09555456 207853.40985452 222206.81329797\n",
      " 237206.11989638 252880.39529172 269260.01307984 286376.71366843\n",
      " 304263.66578351 322955.53074377]\n"
     ]
    }
   ],
   "source": [
    "print investment_value"
   ]
  },
  {
   "cell_type": "code",
   "execution_count": 29,
   "metadata": {},
   "outputs": [
    {
     "data": {
      "text/plain": [
       "Text(0.5,0,'years')"
      ]
     },
     "execution_count": 29,
     "metadata": {},
     "output_type": "execute_result"
    },
    {
     "data": {
      "image/png": "[encoded data removed]",
      "text/plain": [
       "<Figure size 432x288 with 1 Axes>"
      ]
     },
     "metadata": {},
     "output_type": "display_data"
    }
   ],
   "source": [
    "plt.plot(years_arr,investment_value,\"ro\")\n",
    "plt.ylabel(\"$ investment value\")\n",
    "plt.xlabel(\"years\")"
   ]
  },
  {
   "cell_type": "markdown",
   "metadata": {
    "collapsed": true
   },
   "source": [
    "Showing everything together...."
   ]
  },
  {
   "cell_type": "code",
   "execution_count": 32,
   "metadata": {},
   "outputs": [
    {
     "data": {
      "text/plain": [
       "<matplotlib.legend.Legend at 0x7aa2b00>"
      ]
     },
     "execution_count": 32,
     "metadata": {},
     "output_type": "execute_result"
    },
    {
     "data": {
      "image/png": "[encoded data removed]",
      "text/plain": [
       "<Figure size 432x288 with 1 Axes>"
      ]
     },
     "metadata": {},
     "output_type": "display_data"
    }
   ],
   "source": [
    "plt.plot(years_arr,investment_value,\"r-\", label=\"Investment value\")\n",
    "plt.plot(years_arr,home_equity_value,\"b-\",label=\"Home value\")\n",
    "plt.plot(years_arr,home_equity_value,\"k-\",label=\"Total value\")\n",
    "plt.ylabel(\"$ value\")\n",
    "plt.xlabel(\"years\")\n",
    "plt.legend()"
   ]
  },
  {
   "cell_type": "code",
   "execution_count": null,
   "metadata": {},
   "outputs": [],
   "source": []
  }
 ],
 "metadata": {
  "kernelspec": {
   "display_name": "Python 2",
   "language": "python",
   "name": "python2"
  },
  "language_info": {
   "codemirror_mode": {
    "name": "ipython",
    "version": 2
   },
   "file_extension": ".py",
   "mimetype": "text/x-python",
   "name": "python",
   "nbconvert_exporter": "python",
   "pygments_lexer": "ipython2",
   "version": "2.7.15"
  }
 },
 "nbformat": 4,
 "nbformat_minor": 2
}
