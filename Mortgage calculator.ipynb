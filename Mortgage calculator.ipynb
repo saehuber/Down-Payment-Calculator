{
 "cells": [
  {
   "cell_type": "markdown",
   "metadata": {},
   "source": [
    "This calculator is designed to calculate the optimal investment strategy over time, comparing home equity growth vs. investment growth.\n",
    "\n",
    "Many wild assumptions ahead, but hopefully at least the math is correct.\n",
    "\n",
    "We should also answer a couple of questions, like:\n",
    "Should you pay your mortgage as quickly as possible, or invest additional available income instead?\n",
    "\n",
    "Should make it so that you can start at a later year. Plots over a variety of values"
   ]
  },
  {
   "cell_type": "code",
   "execution_count": null,
   "metadata": {},
   "outputs": [],
   "source": [
    "import numpy as np\n",
    "import matplotlib.pyplot as plt"
   ]
  },
  {
   "cell_type": "markdown",
   "metadata": {},
   "source": [
    "Some important variables:\n",
    "note: do we also want to consider their uncertainty?\n",
    "We probably want to separate these into their own cells, each with sources/derivation\n",
    "\n",
    "Also: compare rental costs?\n",
    "\n",
    "All of these are per year costs, except for a couple which are one time costs"
   ]
  },
  {
   "cell_type": "code",
   "execution_count": null,
   "metadata": {},
   "outputs": [],
   "source": [
    "initial_savings = 50000 #amount available to spend in year 0\n",
    "home_cost = 100000 #cost of a home\n",
    "yearly_surplus = 5000 #amount set aside for investment\n",
    "expected_interest_rate = 3.5 #assumed average interest rate per year\n",
    "expected_inflation_rate = 3 #assumed average inflation per year\n",
    "expected_investment_growth_rate = 7.5 #expected growth rate per year for investments\n",
    "expected_home_equity_growth_rate = 7.5 #expected growth in value of home per year\n",
    "home_purchase_costs = 5000 #costs of buying a home\n",
    "#home_maintainance_costs = 1000 #average amount spend per year on home \n",
    "#capital_gains_tax = 5 #tax rate on contributions over tax free amount?\n",
    "#property_tax = 2 #tax rate for property\n",
    "down_payment = 20 #percentage of home you pay initially\n",
    "#mortgage_rate = predicted_interest_rate + prime # Should we assume rental income = mortgage here? \n",
    "#can maintainance costs be ommitted then too?\n",
    "yearly_invested = yearly_surplus #could be a percentage; extra goes to mortgage\n",
    "years = 30"
   ]
  },
  {
   "cell_type": "markdown",
   "metadata": {},
   "source": [
    "The cost of home ownership per year"
   ]
  },
  {
   "cell_type": "code",
   "execution_count": null,
   "metadata": {},
   "outputs": [],
   "source": []
  },
  {
   "cell_type": "code",
   "execution_count": null,
   "metadata": {},
   "outputs": [],
   "source": []
  },
  {
   "cell_type": "markdown",
   "metadata": {},
   "source": [
    "The increase in value of home ownership per year"
   ]
  },
  {
   "cell_type": "code",
   "execution_count": null,
   "metadata": {},
   "outputs": [],
   "source": [
    "home_equity_value = home_cost*np.power(1+(expected_home_equity_growth_rate-expected_inflation_rate)/100,years_arr)"
   ]
  },
  {
   "cell_type": "code",
   "execution_count": null,
   "metadata": {},
   "outputs": [],
   "source": [
    "print home_equity_value"
   ]
  },
  {
   "cell_type": "code",
   "execution_count": null,
   "metadata": {},
   "outputs": [],
   "source": [
    "plt.plot(years_arr,home_equity_value,)\n",
    "plt.ylabel(\"$ home equity value\")\n",
    "plt.xlabel(\"years\")"
   ]
  },
  {
   "cell_type": "markdown",
   "metadata": {},
   "source": [
    "Value of investments:"
   ]
  },
  {
   "cell_type": "code",
   "execution_count": null,
   "metadata": {},
   "outputs": [],
   "source": [
    "initial_investment = initial_savings - home_cost * down_payment / 100 - home_purchase_costs"
   ]
  },
  {
   "cell_type": "code",
   "execution_count": null,
   "metadata": {},
   "outputs": [],
   "source": [
    "print initial_investment"
   ]
  },
  {
   "cell_type": "code",
   "execution_count": null,
   "metadata": {},
   "outputs": [],
   "source": [
    "years_arr = np.arange(0,years)\n",
    "print years_arr\n",
    "print yearly_invested * np.power(1+(expected_investment_growth_rate-expected_inflation_rate)/100,years_arr)\n",
    "sum = np.cumsum(yearly_invested*np.power(1+(expected_investment_growth_rate-expected_inflation_rate)/100,years_arr)) \n",
    "print sum"
   ]
  },
  {
   "cell_type": "code",
   "execution_count": null,
   "metadata": {},
   "outputs": [],
   "source": [
    "investment_value = initial_investment*np.power(1+(expected_investment_growth_rate-expected_inflation_rate)/100,years_arr)+sum"
   ]
  },
  {
   "cell_type": "code",
   "execution_count": null,
   "metadata": {},
   "outputs": [],
   "source": [
    "print investment_value"
   ]
  },
  {
   "cell_type": "code",
   "execution_count": null,
   "metadata": {},
   "outputs": [],
   "source": [
    "plt.plot(years_arr,investment_value,\"ro\")\n",
    "plt.ylabel(\"$ investment value\")\n",
    "plt.xlabel(\"years\")"
   ]
  },
  {
   "cell_type": "code",
   "execution_count": null,
   "metadata": {},
   "outputs": [],
   "source": []
  }
 ],
 "metadata": {
  "kernelspec": {
   "display_name": "Python 2",
   "language": "python",
   "name": "python2"
  },
  "language_info": {
   "codemirror_mode": {
    "name": "ipython",
    "version": 2
   },
   "file_extension": ".py",
   "mimetype": "text/x-python",
   "name": "python",
   "nbconvert_exporter": "python",
   "pygments_lexer": "ipython2",
   "version": "2.7.15"
  }
 },
 "nbformat": 4,
 "nbformat_minor": 2
}
