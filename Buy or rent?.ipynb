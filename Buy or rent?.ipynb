{
 "cells": [
  {
   "cell_type": "markdown",
   "metadata": {},
   "source": [
    "This calculator is designed to calculate whether it's better to buy a home, or rent and invest savings\n",
    "\n",
    "Many wild assumptions ahead, but hopefully at least the math is correct.\n",
    "\n",
    "We should also answer a couple of questions, like:\n",
    "Should you pay your mortgage as quickly as possible, or invest additional available income instead?\n",
    "\n",
    "Should make it so that you can start at a later year. Plots over a variety of values"
   ]
  },
  {
   "cell_type": "code",
   "execution_count": 5,
   "metadata": {},
   "outputs": [],
   "source": [
    "import numpy as np\n",
    "import matplotlib.pyplot as plt"
   ]
  },
  {
   "cell_type": "markdown",
   "metadata": {},
   "source": [
    "Some important variables:\n",
    "note: do we also want to consider their uncertainty?\n",
    "We probably want to separate these into their own cells, each with sources/derivation"
   ]
  },
  {
   "cell_type": "code",
   "execution_count": 22,
   "metadata": {},
   "outputs": [],
   "source": [
    "initial_savings = 50000 #amount available to spend in year 0\n",
    "home_cost = 650000 #cost of a home\n",
    "#expected_interest_rate = 3.5 #assumed average interest rate per year\n",
    "#expected_inflation_rate = 3 #assumed average inflation per year\n",
    "#expected_home_equity_growth_rate = 7.5 #expected growth in value of home per year\n",
    "home_purchase_costs = 5000 #costs of buying a home\n",
    "#home_maintainance_costs = 1000 #average amount spend per year on home \n",
    "#capital_gains_tax = 5 #tax rate on contributions over tax free amount?\n",
    "#property_tax = 2 #tax rate for property\n",
    "down_payment = 20 #percentage of home you pay initially\n",
    "prime = 1\n",
    "mortgage_rate = expected_interest_rate + prime # Should we assume rental income = mortgage here? \n",
    "#can maintainance costs be ommitted then too?\n",
    "years = 10\n",
    "years_arr = np.arange(0,years)\n",
    "mortgage_years = 30"
   ]
  },
  {
   "cell_type": "markdown",
   "metadata": {},
   "source": [
    "Expected home value growth rate: estimated from\n",
    "https://www.crea.ca/housing-market-stats/mls-home-price-index/hpi-tool/\n",
    "\n",
    "Note that we are ignoring inflation!"
   ]
  },
  {
   "cell_type": "code",
   "execution_count": 25,
   "metadata": {},
   "outputs": [],
   "source": [
    "expected_home_value_growth_rate = 15 / 2.5 "
   ]
  },
  {
   "cell_type": "markdown",
   "metadata": {
    "collapsed": true
   },
   "source": [
    "Mortgage payments are calculated as the mortgage rate $\\times$ outstanding debt\n",
    "\n",
    "Here we calculate the mortgage payments for each year, assuming a fixed rate mortgage with the interest rate defined above"
   ]
  },
  {
   "cell_type": "code",
   "execution_count": 27,
   "metadata": {},
   "outputs": [
    {
     "name": "stdout",
     "output_type": "stream",
     "text": [
      "35340.2781181932\n"
     ]
    }
   ],
   "source": [
    "principal = home_cost - down_payment\n",
    "yearly_mortgage_payment = principal * ( (expected_interest_rate / 100) * np.power(1 + expected_interest_rate / 100, mortgage_years) / (np.power(1 + expected_interest_rate / 100, mortgage_years) - 1))\n",
    "mortgage_payments = mortgage_rate * years_arr\n",
    "\n",
    "print yearly_mortgage_payment\n",
    "\n",
    "total_home_cost = yearly_mortgage_payment + property_tax + maintenance_cost"
   ]
  },
  {
   "cell_type": "markdown",
   "metadata": {},
   "source": [
    "Home equity: home value increases per year, home equity grows with home value and with decreased debt due to mortgage payments"
   ]
  },
  {
   "cell_type": "code",
   "execution_count": 29,
   "metadata": {},
   "outputs": [
    {
     "name": "stdout",
     "output_type": "stream",
     "text": [
      "[2.00000000e+01 3.90245000e+04 8.03690000e+04 1.24193900e+05\n",
      " 1.70648024e+05 2.19889125e+05 2.72084423e+05 3.27411168e+05\n",
      " 3.86057248e+05 4.48221823e+05]\n"
     ]
    }
   ],
   "source": [
    "print home_equity_value"
   ]
  },
  {
   "cell_type": "code",
   "execution_count": 28,
   "metadata": {},
   "outputs": [],
   "source": [
    "home_value = home_cost*np.power(1+(expected_home_value_growth_rate)/100,years_arr)\n",
    "debt = (home_cost - down_payment) - mortgage_payments\n",
    "home_equity_value = home_value - debt"
   ]
  },
  {
   "cell_type": "code",
   "execution_count": 30,
   "metadata": {},
   "outputs": [
    {
     "data": {
      "text/plain": [
       "Text(0.5,0,'years')"
      ]
     },
     "execution_count": 30,
     "metadata": {},
     "output_type": "execute_result"
    },
    {
     "data": {
      "image/png": "[encoded data removed]",
      "text/plain": [
       "<Figure size 432x288 with 1 Axes>"
      ]
     },
     "metadata": {},
     "output_type": "display_data"
    }
   ],
   "source": [
    "plt.plot(years_arr,home_equity_value)\n",
    "plt.ylabel(\"$ home equity value\")\n",
    "plt.xlabel(\"years\")"
   ]
  },
  {
   "cell_type": "markdown",
   "metadata": {},
   "source": [
    "But let's not forget that property taxes + maintenance costs are also included in home cost.\n",
    "\n",
    "Property tax estimate from\n",
    "\n",
    "https://vancouver.ca/home-property-development/residential.aspx\n",
    "\n",
    "Assuming home cost = home value, and using estimate for property tax."
   ]
  },
  {
   "cell_type": "code",
   "execution_count": 35,
   "metadata": {},
   "outputs": [],
   "source": [
    "property_tax = home_value * 2.5/1000\n",
    "maintenance_cost = home_value * 0.001\n",
    "\n",
    "yearly_home_expenses = mortgage_payments + property_tax + maintenance_cost"
   ]
  },
  {
   "cell_type": "markdown",
   "metadata": {},
   "source": [
    "What if you rented instead of bought? Let's say that you invested your home purchase costs in the stock/bond market instead, as well as any difference in cost between renting and owning. The value of investments:"
   ]
  },
  {
   "cell_type": "code",
   "execution_count": 31,
   "metadata": {},
   "outputs": [],
   "source": [
    "initial_investment = initial_savings"
   ]
  },
  {
   "cell_type": "markdown",
   "metadata": {},
   "source": [
    "How much do you invest per year? Let's say you invest whatever you would have spent on a home, minus rental costs"
   ]
  },
  {
   "cell_type": "code",
   "execution_count": 32,
   "metadata": {},
   "outputs": [],
   "source": [
    "monthly_rent = 2800\n",
    "rental_cost = monthly_rent * 12"
   ]
  },
  {
   "cell_type": "code",
   "execution_count": null,
   "metadata": {},
   "outputs": [],
   "source": [
    "expected_investment_growth_rate = 7.5 #expected growth rate per year for investments\n",
    "yearly_surplus = 5000 #amount set aside for investment\n",
    "yearly_invested = yearly_surplus #could be a percentage; extra goes to mortgage"
   ]
  },
  {
   "cell_type": "code",
   "execution_count": 17,
   "metadata": {},
   "outputs": [
    {
     "name": "stdout",
     "output_type": "stream",
     "text": [
      "50000\n"
     ]
    }
   ],
   "source": [
    "print initial_investment"
   ]
  },
  {
   "cell_type": "code",
   "execution_count": 18,
   "metadata": {},
   "outputs": [
    {
     "name": "stdout",
     "output_type": "stream",
     "text": [
      "[0 1 2 3 4 5 6 7 8 9]\n",
      "[5000.         5225.         5460.125      5705.830625   5962.59300312\n",
      " 6230.90968827 6511.30062424 6804.30915233 7110.50306418 7430.47570207]\n",
      "[ 5000.         10225.         15685.125      21390.955625\n",
      " 27353.54862812 33584.45831639 40095.75894063 46900.06809296\n",
      " 54010.57115714 61441.04685921]\n"
     ]
    }
   ],
   "source": [
    "print years_arr\n",
    "print yearly_invested * np.power(1+(expected_investment_growth_rate-expected_inflation_rate)/100,years_arr)\n",
    "sum = np.cumsum(yearly_invested*np.power(1+(expected_investment_growth_rate-expected_inflation_rate)/100,years_arr)) \n",
    "print sum"
   ]
  },
  {
   "cell_type": "code",
   "execution_count": 19,
   "metadata": {},
   "outputs": [],
   "source": [
    "investment_value = initial_investment*np.power(1+(expected_investment_growth_rate-expected_inflation_rate)/100,years_arr)+sum"
   ]
  },
  {
   "cell_type": "code",
   "execution_count": 20,
   "metadata": {},
   "outputs": [
    {
     "name": "stdout",
     "output_type": "stream",
     "text": [
      "[ 55000.          62475.          70286.375       78449.261875\n",
      "  86979.47865937  95893.55519905 105208.765183   114943.15961624\n",
      " 125115.60179897 135745.80387992]\n"
     ]
    }
   ],
   "source": [
    "print investment_value"
   ]
  },
  {
   "cell_type": "code",
   "execution_count": 12,
   "metadata": {},
   "outputs": [
    {
     "data": {
      "text/plain": [
       "Text(0.5,0,'years')"
      ]
     },
     "execution_count": 12,
     "metadata": {},
     "output_type": "execute_result"
    },
    {
     "data": {
      "image/png": "[encoded data removed]",
      "text/plain": [
       "<Figure size 432x288 with 1 Axes>"
      ]
     },
     "metadata": {},
     "output_type": "display_data"
    }
   ],
   "source": [
    "plt.plot(years_arr,investment_value,\"ro\")\n",
    "plt.ylabel(\"$ investment value\")\n",
    "plt.xlabel(\"years\")"
   ]
  },
  {
   "cell_type": "markdown",
   "metadata": {
    "collapsed": true
   },
   "source": [
    "Showing everything together...."
   ]
  },
  {
   "cell_type": "code",
   "execution_count": 13,
   "metadata": {},
   "outputs": [
    {
     "data": {
      "text/plain": [
       "<matplotlib.legend.Legend at 0x7fbdc44a7210>"
      ]
     },
     "execution_count": 13,
     "metadata": {},
     "output_type": "execute_result"
    },
    {
     "data": {
      "image/png": "[encoded data removed]",
      "text/plain": [
       "<Figure size 432x288 with 1 Axes>"
      ]
     },
     "metadata": {},
     "output_type": "display_data"
    }
   ],
   "source": [
    "plt.plot(years_arr,investment_value,\"r-\", label=\"Investment value\")\n",
    "plt.plot(years_arr,home_equity_value,\"b-\",label=\"Home value\")\n",
    "plt.plot(years_arr,home_equity_value,\"k-\",label=\"Total value\")\n",
    "plt.ylabel(\"$ value\")\n",
    "plt.xlabel(\"years\")\n",
    "plt.legend()"
   ]
  },
  {
   "cell_type": "code",
   "execution_count": null,
   "metadata": {},
   "outputs": [],
   "source": []
  }
 ],
 "metadata": {
  "kernelspec": {
   "display_name": "Python 2",
   "language": "python",
   "name": "python2"
  },
  "language_info": {
   "codemirror_mode": {
    "name": "ipython",
    "version": 2
   },
   "file_extension": ".py",
   "mimetype": "text/x-python",
   "name": "python",
   "nbconvert_exporter": "python",
   "pygments_lexer": "ipython2",
   "version": "2.7.15"
  }
 },
 "nbformat": 4,
 "nbformat_minor": 2
}
